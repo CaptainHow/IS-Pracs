{
 "cells": [
  {
   "cell_type": "code",
   "execution_count": 8,
   "metadata": {},
   "outputs": [
    {
     "name": "stdout",
     "output_type": "stream",
     "text": [
      "2447\n",
      "22\n"
     ]
    }
   ],
   "source": [
    "p = 97\n",
    "q = 37\n",
    "PT = 22\n",
    "n = p*q\n",
    "phiN = (p-1)*(q-1)\n",
    "\n",
    "e = 17\n",
    "# print(phiN)\n",
    "d = 0\n",
    "for i in range(0,99):\n",
    "    d = ((phiN * i) + 1)/e\n",
    "    if d.is_integer():\n",
    "        break\n",
    "\n",
    "CT = (PT**e)%n\n",
    "print(CT)\n",
    "\n",
    "PT = (CT**int(d))%n\n",
    "print(PT)\n",
    "\n"
   ]
  }
 ],
 "metadata": {
  "interpreter": {
   "hash": "4967e6ae66cdbca97a956efb29231a0cc91c8b76a2ce84b79640903ac8236afa"
  },
  "kernelspec": {
   "display_name": "Python 3.9.6 64-bit",
   "language": "python",
   "name": "python3"
  },
  "language_info": {
   "codemirror_mode": {
    "name": "ipython",
    "version": 3
   },
   "file_extension": ".py",
   "mimetype": "text/x-python",
   "name": "python",
   "nbconvert_exporter": "python",
   "pygments_lexer": "ipython3",
   "version": "3.9.6"
  },
  "orig_nbformat": 4
 },
 "nbformat": 4,
 "nbformat_minor": 2
}
