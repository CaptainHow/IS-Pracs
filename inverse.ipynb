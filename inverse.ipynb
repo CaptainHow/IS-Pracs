{
 "cells": [
  {
   "cell_type": "code",
   "execution_count": 11,
   "metadata": {},
   "outputs": [
    {
     "name": "stdout",
     "output_type": "stream",
     "text": [
      "1 21\n"
     ]
    }
   ],
   "source": [
    "def mulInverse(a,b):\n",
    "    ri = [b,a]\n",
    "    qi = [0,0]\n",
    "    xi = [1,0]\n",
    "    yi = [0,1]\n",
    "    i = 2\n",
    "    \n",
    "    while True:\n",
    "        ri.append(ri[i-2]%ri[i-1])\n",
    "        qi.append(ri[i-2]//ri[i-1])\n",
    "        xi.append(xi[i-2]-qi[i]*xi[i-1])\n",
    "        yi.append(yi[i-2]-qi[i]*yi[i-1])\n",
    "        if ri[i] == 1:\n",
    "            break\n",
    "        i += 1\n",
    "    XI = (b+xi[-1]) if (xi[-1]<0) else (xi[-1])\n",
    "    YI = (b+yi[-1]) if (yi[-1]<0) else (yi[-1])\n",
    "    print(XI, YI)\n",
    "\n",
    "mulInverse(3,26)\n",
    "        "
   ]
  },
  {
   "cell_type": "code",
   "execution_count": 5,
   "metadata": {},
   "outputs": [
    {
     "data": {
      "text/plain": [
       "23"
      ]
     },
     "execution_count": 5,
     "metadata": {},
     "output_type": "execute_result"
    }
   ],
   "source": [
    "# python direct\n",
    "pow(17, -1, 26)"
   ]
  }
 ],
 "metadata": {
  "interpreter": {
   "hash": "4967e6ae66cdbca97a956efb29231a0cc91c8b76a2ce84b79640903ac8236afa"
  },
  "kernelspec": {
   "display_name": "Python 3.9.6 64-bit",
   "language": "python",
   "name": "python3"
  },
  "language_info": {
   "codemirror_mode": {
    "name": "ipython",
    "version": 3
   },
   "file_extension": ".py",
   "mimetype": "text/x-python",
   "name": "python",
   "nbconvert_exporter": "python",
   "pygments_lexer": "ipython3",
   "version": "3.9.6"
  },
  "orig_nbformat": 4
 },
 "nbformat": 4,
 "nbformat_minor": 2
}
