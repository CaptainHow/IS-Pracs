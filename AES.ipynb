{
 "cells": [
  {
   "cell_type": "code",
   "execution_count": 21,
   "metadata": {},
   "outputs": [
    {
     "name": "stdout",
     "output_type": "stream",
     "text": [
      "b'My Name is Ahmed'\n"
     ]
    }
   ],
   "source": [
    "from Cryptodome.Cipher import AES\n",
    "\n",
    "key = b\"Ahmed is twenty1\"\n",
    "cipher = AES.new(key, AES.MODE_EAX)\n",
    "\n",
    "nonce = cipher.nonce\n",
    "CT, tag = cipher.encrypt_and_digest(b\"My Name is Ahmed\")\n",
    "\n",
    "cipher = AES.new(key, AES.MODE_EAX, nonce=nonce)\n",
    "# cipher.verify(tag)\n",
    "plaintText = cipher.decrypt(CT)\n",
    "print(plaintText)"
   ]
  },
  {
   "cell_type": "code",
   "execution_count": 22,
   "metadata": {},
   "outputs": [
    {
     "name": "stdout",
     "output_type": "stream",
     "text": [
      "b'My Name is Ahmed'\n"
     ]
    }
   ],
   "source": [
    "from Cryptodome.Cipher import AES\n",
    "\n",
    "key = b\"Ahmed is twenty1\"\n",
    "cipher = AES.new(key, AES.MODE_EAX)\n",
    "\n",
    "nonce = cipher.nonce\n",
    "CT = cipher.encrypt(b\"My Name is Ahmed\")\n",
    "\n",
    "\n",
    "cipher = AES.new(key, AES.MODE_EAX, nonce=nonce)\n",
    "plaintText = cipher.decrypt(CT)\n",
    "print(plaintText)"
   ]
  }
 ],
 "metadata": {
  "interpreter": {
   "hash": "4967e6ae66cdbca97a956efb29231a0cc91c8b76a2ce84b79640903ac8236afa"
  },
  "kernelspec": {
   "display_name": "Python 3.9.6 64-bit",
   "language": "python",
   "name": "python3"
  },
  "language_info": {
   "codemirror_mode": {
    "name": "ipython",
    "version": 3
   },
   "file_extension": ".py",
   "mimetype": "text/x-python",
   "name": "python",
   "nbconvert_exporter": "python",
   "pygments_lexer": "ipython3",
   "version": "3.9.6"
  },
  "orig_nbformat": 4
 },
 "nbformat": 4,
 "nbformat_minor": 2
}
