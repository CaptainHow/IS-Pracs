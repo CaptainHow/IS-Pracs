{
 "cells": [
  {
   "cell_type": "code",
   "execution_count": 4,
   "metadata": {},
   "outputs": [
    {
     "name": "stdout",
     "output_type": "stream",
     "text": [
      "b'\\x7f\\x1eC\\xd8\\x80\\xf0\\x9cd\\xaccx\\xafm\\xe4w\\x02'\n",
      "7f1e43d880f09c64ac6378af6de47702\n"
     ]
    }
   ],
   "source": [
    "import hashlib\n",
    "\n",
    "res = hashlib.md5(\"Ahmed\".encode())\n",
    "print(res.digest())\n",
    "print(res.hexdigest())"
   ]
  },
  {
   "cell_type": "code",
   "execution_count": 6,
   "metadata": {},
   "outputs": [
    {
     "name": "stdout",
     "output_type": "stream",
     "text": [
      "b'\\xbf\\x85\\xcdg&\\xe5\\x99_U\\xdeN\\x9f\\xafC`\\xeb\\x81\\xe9\\xa1\\x86'\n",
      "bf85cd6726e5995f55de4e9faf4360eb81e9a186\n",
      "b\"A\\xf0\\xda\\xe5\\x7f\\xffi&\\xfa\\xceh\\x9fC\\x8e\\xaf9\\x8e\\xf9\\xbb\\xff'\\x19\\xb8\\xf8\\xc3H\\xe9\\xecT\\xb3\\x0f\\x8e\"\n",
      "41f0dae57fff6926face689f438eaf398ef9bbff2719b8f8c348e9ec54b30f8e\n",
      "b'/\\xf9\\x9bZ\\xa6\\x8a\\xb2\\xe3\\xde+$#/G\\x14\\xba\\x97\\xe3\\x88\\xa49f.\\x02\\x9c0]\\xde\\xe2\\x7fth,\\x162%*\\xc69\\xcf\\x1a\\xe3x9\\x06\\x84\\x14\\x1a'\n",
      "2ff99b5aa68ab2e3de2b24232f4714ba97e388a439662e029c305ddee27f74682c1632252ac639cf1ae378390684141a\n",
      "b'\\x92\\xf4~\\xd2*\\x08\\xc7@\\xab\\xe7\\xb7,)\\xb4\\x16\\xa0\\xde\\xbc\\xae,>,?d\\xb4[g\"\\xe4\\xe5\\t\\xa1>\\xac\\xed\\xa9\\x03\\xf1\\xd4\\xd266z\\x14\\xbd\\xf4R\\xfe\\xf2R\\x05V\\xe3\\x91(\\xba\\xd9\\x0f\\x07h\\x85\\xaa\\x1a\\xf8'\n",
      "92f47ed22a08c740abe7b72c29b416a0debcae2c3e2c3f64b45b6722e4e509a13eaceda903f1d4d236367a14bdf452fef2520556e39128bad90f076885aa1af8\n"
     ]
    }
   ],
   "source": [
    "import hashlib\n",
    "\n",
    "res = hashlib.sha1(\"Ahmed\".encode())\n",
    "print(res.digest())\n",
    "print(res.hexdigest())\n",
    "\n",
    "res = hashlib.sha256(\"Ahmed\".encode())\n",
    "print(res.digest())\n",
    "print(res.hexdigest())\n",
    "\n",
    "res = hashlib.sha384(\"Ahmed\".encode())\n",
    "print(res.digest())\n",
    "print(res.hexdigest())\n",
    "\n",
    "res = hashlib.sha512(\"Ahmed\".encode())\n",
    "print(res.digest())\n",
    "print(res.hexdigest())"
   ]
  }
 ],
 "metadata": {
  "interpreter": {
   "hash": "4967e6ae66cdbca97a956efb29231a0cc91c8b76a2ce84b79640903ac8236afa"
  },
  "kernelspec": {
   "display_name": "Python 3.9.6 64-bit",
   "language": "python",
   "name": "python3"
  },
  "language_info": {
   "codemirror_mode": {
    "name": "ipython",
    "version": 3
   },
   "file_extension": ".py",
   "mimetype": "text/x-python",
   "name": "python",
   "nbconvert_exporter": "python",
   "pygments_lexer": "ipython3",
   "version": "3.9.6"
  },
  "orig_nbformat": 4
 },
 "nbformat": 4,
 "nbformat_minor": 2
}
