{
 "cells": [
  {
   "cell_type": "code",
   "execution_count": 68,
   "metadata": {},
   "outputs": [
    {
     "name": "stdout",
     "output_type": "stream",
     "text": [
      "[['S', 5], ['O', 1], ['R', 3], ['R', 4], ['O', 2], ['W', 6]]\n",
      "[['D' 'E' 'M' 'O' 'N' 'E']\n",
      " ['T' 'I' 'Z' 'A' 'T' 'I']\n",
      " ['O' 'N' 'T' 'O' 'N' 'I']\n",
      " ['G' 'H' 'T' 'X' 'X' 'X']]\n",
      "[['E' 'N' 'M' 'O' 'D' 'E']\n",
      " ['I' 'T' 'Z' 'A' 'T' 'I']\n",
      " ['N' 'N' 'T' 'O' 'O' 'I']\n",
      " ['H' 'X' 'T' 'X' 'G' 'X']]\n",
      "[['D' 'E' 'M' 'O' 'N' 'E']\n",
      " ['T' 'I' 'Z' 'A' 'T' 'I']\n",
      " ['O' 'N' 'T' 'O' 'N' 'I']\n",
      " ['G' 'H' 'T' 'X' 'X' 'X']]\n"
     ]
    }
   ],
   "source": [
    "import numpy as np\n",
    "import math\n",
    "key = \"SORROW\"\n",
    "\n",
    "keySorted = sorted(key)\n",
    "sortedList = []\n",
    "j = 1\n",
    "for i in keySorted:\n",
    "    sortedList.append([i, j])\n",
    "    j+=1\n",
    "# print(sortedList)\n",
    "\n",
    "finalList = []\n",
    "\n",
    "while sortedList:\n",
    "    for i in key:\n",
    "        for j in sortedList:\n",
    "            if i in j:\n",
    "                finalList.append(j)\n",
    "                sortedList.remove(j)\n",
    "print(finalList)\n",
    "# Encryption \n",
    "PT = \"DEMONETIZATION TONIGHT\"\n",
    "PT = PT.replace(\" \",\"\")\n",
    "keyLength = len(key)\n",
    "\n",
    "finalPT = PT + \"X\"*(math.ceil(len(PT)/keyLength)*keyLength-len(PT))\n",
    "finalPTMatrix = np.array(list(finalPT)).reshape(math.ceil(len(PT)/keyLength),keyLength)\n",
    "print(finalPTMatrix)\n",
    "\n",
    "finalPTMatrix = finalPTMatrix.T\n",
    "j = 0\n",
    "finalPTMatrixEnc = np.copy(finalPTMatrix)\n",
    "\n",
    "for i in range(len(finalPTMatrix)):\n",
    "    # print(finalList[i][1]-1)\n",
    "    finalPTMatrixEnc[finalList[i][1]-1] = finalPTMatrix[i]\n",
    "    # print(finalPTMatrix[i])\n",
    "    # print(finalPTMatrixEnc[finalList[i][1]-1])\n",
    "        # print(finalPTMatrixEnc)\n",
    "    # print(i)\n",
    "print(finalPTMatrixEnc.T)\n",
    "\n",
    "\n",
    "# Decryption\n",
    "finalDecMatrix = np.copy(finalPTMatrixEnc)\n",
    "for i in range(len(finalPTMatrixEnc)):\n",
    "    finalDecMatrix[i] = finalPTMatrixEnc[finalList[i][1]-1]\n",
    "print(finalDecMatrix.T)\n",
    "\n",
    "\n",
    "\n",
    "\n",
    "\n",
    "\n",
    "# key = \"SORROW\"\n",
    "# [['S', 5], ['O', 1], ['R', 3], ['R', 4], ['O', 2], ['W', 6]]\n",
    "\n",
    "# key = \"ENCRYPT\"\n",
    "# [['E', 2], ['N', 3], ['C', 1], ['R', 5], ['Y', 7], ['P', 4], ['T', 6]]\n",
    "\n",
    "\n",
    "\n"
   ]
  }
 ],
 "metadata": {
  "interpreter": {
   "hash": "4967e6ae66cdbca97a956efb29231a0cc91c8b76a2ce84b79640903ac8236afa"
  },
  "kernelspec": {
   "display_name": "Python 3.9.6 64-bit",
   "language": "python",
   "name": "python3"
  },
  "language_info": {
   "codemirror_mode": {
    "name": "ipython",
    "version": 3
   },
   "file_extension": ".py",
   "mimetype": "text/x-python",
   "name": "python",
   "nbconvert_exporter": "python",
   "pygments_lexer": "ipython3",
   "version": "3.9.6"
  },
  "orig_nbformat": 4
 },
 "nbformat": 4,
 "nbformat_minor": 2
}
