{
 "cells": [
  {
   "cell_type": "code",
   "execution_count": 10,
   "metadata": {},
   "outputs": [
    {
     "name": "stdout",
     "output_type": "stream",
     "text": [
      "[2, 6, 7, 11]\n",
      "5 5\n"
     ]
    }
   ],
   "source": [
    "q = 13\n",
    "\n",
    "\n",
    "nums = []\n",
    "for i in range(2, q):\n",
    "    pattern = []\n",
    "    flag = 0\n",
    "    for j in range(0, q-1):\n",
    "        n = (i**j)%q\n",
    "        if n not in pattern:\n",
    "            pattern.append(n)\n",
    "            flag = 1\n",
    "        else:\n",
    "            flag = 0\n",
    "            break\n",
    "    if flag == 1:\n",
    "        nums.append(i)\n",
    "    pattern = []\n",
    "    \n",
    "\n",
    "print(nums)\n",
    "alpha = 7\n",
    "XA = 3\n",
    "XB = 5\n",
    "\n",
    "YA = (alpha**XA)%q\n",
    "YB = (alpha**XB)%q\n",
    "\n",
    "k1 = (YB**XA)%q\n",
    "k2 = (YA**XB)%q\n",
    "\n",
    "print(k1,k2)\n",
    "\n"
   ]
  }
 ],
 "metadata": {
  "interpreter": {
   "hash": "4967e6ae66cdbca97a956efb29231a0cc91c8b76a2ce84b79640903ac8236afa"
  },
  "kernelspec": {
   "display_name": "Python 3.9.6 64-bit",
   "language": "python",
   "name": "python3"
  },
  "language_info": {
   "codemirror_mode": {
    "name": "ipython",
    "version": 3
   },
   "file_extension": ".py",
   "mimetype": "text/x-python",
   "name": "python",
   "nbconvert_exporter": "python",
   "pygments_lexer": "ipython3",
   "version": "3.9.6"
  },
  "orig_nbformat": 4
 },
 "nbformat": 4,
 "nbformat_minor": 2
}
